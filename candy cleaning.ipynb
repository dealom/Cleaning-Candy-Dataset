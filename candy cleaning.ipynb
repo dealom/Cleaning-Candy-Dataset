{
 "cells": [
  {
   "cell_type": "code",
   "execution_count": 2,
   "metadata": {},
   "outputs": [],
   "source": [
    "import numpy as np"
   ]
  },
  {
   "cell_type": "code",
   "execution_count": 3,
   "metadata": {},
   "outputs": [
    {
     "data": {
      "text/html": [
       "<div>\n",
       "<style scoped>\n",
       "    .dataframe tbody tr th:only-of-type {\n",
       "        vertical-align: middle;\n",
       "    }\n",
       "\n",
       "    .dataframe tbody tr th {\n",
       "        vertical-align: top;\n",
       "    }\n",
       "\n",
       "    .dataframe thead th {\n",
       "        text-align: right;\n",
       "    }\n",
       "</style>\n",
       "<table border=\"1\" class=\"dataframe\">\n",
       "  <thead>\n",
       "    <tr style=\"text-align: right;\">\n",
       "      <th></th>\n",
       "      <th>Timestamp</th>\n",
       "      <th>How old are you?</th>\n",
       "      <th>Are you going actually going trick or treating yourself?</th>\n",
       "      <th>[Butterfinger]</th>\n",
       "      <th>[100 Grand Bar]</th>\n",
       "      <th>[Anonymous brown globs that come in black and orange wrappers]</th>\n",
       "      <th>[Any full-sized candy bar]</th>\n",
       "      <th>[Black Jacks]</th>\n",
       "      <th>[Bonkers]</th>\n",
       "      <th>[Bottle Caps]</th>\n",
       "      <th>...</th>\n",
       "      <th>[Necco Wafers]</th>\n",
       "      <th>Which day do you prefer, Friday or Sunday?</th>\n",
       "      <th>Please estimate the degrees of separation you have from the following folks [Bruce Lee]</th>\n",
       "      <th>Please estimate the degrees of separation you have from the following folks [JK Rowling]</th>\n",
       "      <th>Please estimate the degrees of separation you have from the following folks [Malala Yousafzai]</th>\n",
       "      <th>Please estimate the degrees of separation you have from the following folks [Thom Yorke]</th>\n",
       "      <th>Please estimate the degrees of separation you have from the following folks [JJ Abrams]</th>\n",
       "      <th>Please estimate the degrees of separation you have from the following folks [Hillary Clinton]</th>\n",
       "      <th>Please estimate the degrees of separation you have from the following folks [Donald Trump]</th>\n",
       "      <th>Please estimate the degrees of separation you have from the following folks [Beyoncé Knowles]</th>\n",
       "    </tr>\n",
       "  </thead>\n",
       "  <tbody>\n",
       "    <tr>\n",
       "      <th>0</th>\n",
       "      <td>10/23/2015 8:46:20</td>\n",
       "      <td>35</td>\n",
       "      <td>No</td>\n",
       "      <td>JOY</td>\n",
       "      <td>NaN</td>\n",
       "      <td>DESPAIR</td>\n",
       "      <td>JOY</td>\n",
       "      <td>NaN</td>\n",
       "      <td>NaN</td>\n",
       "      <td>NaN</td>\n",
       "      <td>...</td>\n",
       "      <td>NaN</td>\n",
       "      <td>NaN</td>\n",
       "      <td>NaN</td>\n",
       "      <td>NaN</td>\n",
       "      <td>NaN</td>\n",
       "      <td>NaN</td>\n",
       "      <td>NaN</td>\n",
       "      <td>NaN</td>\n",
       "      <td>NaN</td>\n",
       "      <td>NaN</td>\n",
       "    </tr>\n",
       "    <tr>\n",
       "      <th>1</th>\n",
       "      <td>10/23/2015 8:46:52</td>\n",
       "      <td>41</td>\n",
       "      <td>No</td>\n",
       "      <td>JOY</td>\n",
       "      <td>JOY</td>\n",
       "      <td>DESPAIR</td>\n",
       "      <td>JOY</td>\n",
       "      <td>DESPAIR</td>\n",
       "      <td>DESPAIR</td>\n",
       "      <td>JOY</td>\n",
       "      <td>...</td>\n",
       "      <td>DESPAIR</td>\n",
       "      <td>NaN</td>\n",
       "      <td>NaN</td>\n",
       "      <td>NaN</td>\n",
       "      <td>NaN</td>\n",
       "      <td>NaN</td>\n",
       "      <td>NaN</td>\n",
       "      <td>NaN</td>\n",
       "      <td>NaN</td>\n",
       "      <td>NaN</td>\n",
       "    </tr>\n",
       "    <tr>\n",
       "      <th>2</th>\n",
       "      <td>10/23/2015 8:47:34</td>\n",
       "      <td>33</td>\n",
       "      <td>No</td>\n",
       "      <td>DESPAIR</td>\n",
       "      <td>DESPAIR</td>\n",
       "      <td>DESPAIR</td>\n",
       "      <td>JOY</td>\n",
       "      <td>DESPAIR</td>\n",
       "      <td>DESPAIR</td>\n",
       "      <td>DESPAIR</td>\n",
       "      <td>...</td>\n",
       "      <td>DESPAIR</td>\n",
       "      <td>NaN</td>\n",
       "      <td>NaN</td>\n",
       "      <td>NaN</td>\n",
       "      <td>NaN</td>\n",
       "      <td>NaN</td>\n",
       "      <td>NaN</td>\n",
       "      <td>NaN</td>\n",
       "      <td>NaN</td>\n",
       "      <td>NaN</td>\n",
       "    </tr>\n",
       "    <tr>\n",
       "      <th>3</th>\n",
       "      <td>10/23/2015 8:47:59</td>\n",
       "      <td>31</td>\n",
       "      <td>No</td>\n",
       "      <td>JOY</td>\n",
       "      <td>JOY</td>\n",
       "      <td>DESPAIR</td>\n",
       "      <td>JOY</td>\n",
       "      <td>DESPAIR</td>\n",
       "      <td>DESPAIR</td>\n",
       "      <td>JOY</td>\n",
       "      <td>...</td>\n",
       "      <td>DESPAIR</td>\n",
       "      <td>NaN</td>\n",
       "      <td>NaN</td>\n",
       "      <td>NaN</td>\n",
       "      <td>NaN</td>\n",
       "      <td>NaN</td>\n",
       "      <td>NaN</td>\n",
       "      <td>NaN</td>\n",
       "      <td>NaN</td>\n",
       "      <td>NaN</td>\n",
       "    </tr>\n",
       "    <tr>\n",
       "      <th>4</th>\n",
       "      <td>10/23/2015 8:48:12</td>\n",
       "      <td>30</td>\n",
       "      <td>No</td>\n",
       "      <td>NaN</td>\n",
       "      <td>JOY</td>\n",
       "      <td>DESPAIR</td>\n",
       "      <td>JOY</td>\n",
       "      <td>NaN</td>\n",
       "      <td>NaN</td>\n",
       "      <td>NaN</td>\n",
       "      <td>...</td>\n",
       "      <td>NaN</td>\n",
       "      <td>NaN</td>\n",
       "      <td>NaN</td>\n",
       "      <td>NaN</td>\n",
       "      <td>NaN</td>\n",
       "      <td>NaN</td>\n",
       "      <td>NaN</td>\n",
       "      <td>NaN</td>\n",
       "      <td>NaN</td>\n",
       "      <td>NaN</td>\n",
       "    </tr>\n",
       "  </tbody>\n",
       "</table>\n",
       "<p>5 rows × 124 columns</p>\n",
       "</div>"
      ],
      "text/plain": [
       "            Timestamp How old are you?  \\\n",
       "0  10/23/2015 8:46:20               35   \n",
       "1  10/23/2015 8:46:52               41   \n",
       "2  10/23/2015 8:47:34               33   \n",
       "3  10/23/2015 8:47:59               31   \n",
       "4  10/23/2015 8:48:12               30   \n",
       "\n",
       "  Are you going actually going trick or treating yourself?  [Butterfinger]  \\\n",
       "0                                                 No                   JOY   \n",
       "1                                                 No                   JOY   \n",
       "2                                                 No               DESPAIR   \n",
       "3                                                 No                   JOY   \n",
       "4                                                 No                   NaN   \n",
       "\n",
       "   [100 Grand Bar]  \\\n",
       "0              NaN   \n",
       "1              JOY   \n",
       "2          DESPAIR   \n",
       "3              JOY   \n",
       "4              JOY   \n",
       "\n",
       "   [Anonymous brown globs that come in black and orange wrappers]  \\\n",
       "0                                            DESPAIR                \n",
       "1                                            DESPAIR                \n",
       "2                                            DESPAIR                \n",
       "3                                            DESPAIR                \n",
       "4                                            DESPAIR                \n",
       "\n",
       "   [Any full-sized candy bar]  [Black Jacks]  [Bonkers]  [Bottle Caps]  ...  \\\n",
       "0                         JOY            NaN        NaN            NaN  ...   \n",
       "1                         JOY        DESPAIR    DESPAIR            JOY  ...   \n",
       "2                         JOY        DESPAIR    DESPAIR        DESPAIR  ...   \n",
       "3                         JOY        DESPAIR    DESPAIR            JOY  ...   \n",
       "4                         JOY            NaN        NaN            NaN  ...   \n",
       "\n",
       "   [Necco Wafers] Which day do you prefer, Friday or Sunday?  \\\n",
       "0             NaN                                        NaN   \n",
       "1         DESPAIR                                        NaN   \n",
       "2         DESPAIR                                        NaN   \n",
       "3         DESPAIR                                        NaN   \n",
       "4             NaN                                        NaN   \n",
       "\n",
       "  Please estimate the degrees of separation you have from the following folks [Bruce Lee]  \\\n",
       "0                                                NaN                                        \n",
       "1                                                NaN                                        \n",
       "2                                                NaN                                        \n",
       "3                                                NaN                                        \n",
       "4                                                NaN                                        \n",
       "\n",
       "  Please estimate the degrees of separation you have from the following folks [JK Rowling]  \\\n",
       "0                                                NaN                                         \n",
       "1                                                NaN                                         \n",
       "2                                                NaN                                         \n",
       "3                                                NaN                                         \n",
       "4                                                NaN                                         \n",
       "\n",
       "  Please estimate the degrees of separation you have from the following folks [Malala Yousafzai]  \\\n",
       "0                                                NaN                                               \n",
       "1                                                NaN                                               \n",
       "2                                                NaN                                               \n",
       "3                                                NaN                                               \n",
       "4                                                NaN                                               \n",
       "\n",
       "  Please estimate the degrees of separation you have from the following folks [Thom Yorke]  \\\n",
       "0                                                NaN                                         \n",
       "1                                                NaN                                         \n",
       "2                                                NaN                                         \n",
       "3                                                NaN                                         \n",
       "4                                                NaN                                         \n",
       "\n",
       "  Please estimate the degrees of separation you have from the following folks [JJ Abrams]  \\\n",
       "0                                                NaN                                        \n",
       "1                                                NaN                                        \n",
       "2                                                NaN                                        \n",
       "3                                                NaN                                        \n",
       "4                                                NaN                                        \n",
       "\n",
       "  Please estimate the degrees of separation you have from the following folks [Hillary Clinton]  \\\n",
       "0                                                NaN                                              \n",
       "1                                                NaN                                              \n",
       "2                                                NaN                                              \n",
       "3                                                NaN                                              \n",
       "4                                                NaN                                              \n",
       "\n",
       "  Please estimate the degrees of separation you have from the following folks [Donald Trump]  \\\n",
       "0                                                NaN                                           \n",
       "1                                                NaN                                           \n",
       "2                                                NaN                                           \n",
       "3                                                NaN                                           \n",
       "4                                                NaN                                           \n",
       "\n",
       "  Please estimate the degrees of separation you have from the following folks [Beyoncé Knowles]  \n",
       "0                                                NaN                                             \n",
       "1                                                NaN                                             \n",
       "2                                                NaN                                             \n",
       "3                                                NaN                                             \n",
       "4                                                NaN                                             \n",
       "\n",
       "[5 rows x 124 columns]"
      ]
     },
     "execution_count": 3,
     "metadata": {},
     "output_type": "execute_result"
    }
   ],
   "source": [
    "import pandas as pd\n",
    "import matplotlib.pyplot as plt\n",
    "import seaborn as sns\n",
    "from scipy import stats\n",
    "path = 'CANDY-HIERARCHY-2015-SURVEY-Responses.csv'\n",
    "dt = pd.read_csv(path)\n",
    "dt.head()"
   ]
  },
  {
   "cell_type": "code",
   "execution_count": 4,
   "metadata": {},
   "outputs": [
    {
     "data": {
      "text/plain": [
       "'Timestamp'"
      ]
     },
     "execution_count": 4,
     "metadata": {},
     "output_type": "execute_result"
    }
   ],
   "source": [
    "dt.columns[0]"
   ]
  },
  {
   "cell_type": "code",
   "execution_count": 5,
   "metadata": {},
   "outputs": [
    {
     "data": {
      "text/plain": [
       "0.09431616341030195"
      ]
     },
     "execution_count": 5,
     "metadata": {},
     "output_type": "execute_result"
    }
   ],
   "source": [
    "#yes\n",
    "trick = dt[dt.columns[2]]\n",
    "trick.value_counts()[\"Yes\"]/sum(trick.value_counts())"
   ]
  },
  {
   "cell_type": "code",
   "execution_count": 6,
   "metadata": {},
   "outputs": [
    {
     "name": "stdout",
     "output_type": "stream",
     "text": [
      " [Butterfinger] 0.7869258623975605\n",
      "JOY        4129\n",
      "DESPAIR    1118\n",
      "Name:  [Butterfinger], dtype: int64\n",
      "\n",
      " [100 Grand Bar] 0.6897868918375553\n",
      "JOY        3431\n",
      "DESPAIR    1543\n",
      "Name:  [100 Grand Bar], dtype: int64\n",
      "\n",
      " [Anonymous brown globs that come in black and orange wrappers] 0.10333833458364591\n",
      "DESPAIR    4781\n",
      "JOY         551\n",
      "Name:  [Anonymous brown globs that come in black and orange wrappers], dtype: int64\n",
      "\n",
      " [Any full-sized candy bar] 0.9299458247711564\n",
      "JOY        4978\n",
      "DESPAIR     375\n",
      "Name:  [Any full-sized candy bar], dtype: int64\n",
      "\n",
      " [Black Jacks] 0.07307609398577279\n",
      "DESPAIR    4300\n",
      "JOY         339\n",
      "Name:  [Black Jacks], dtype: int64\n",
      "\n",
      " [Bonkers] 0.12005395683453238\n",
      "DESPAIR    3914\n",
      "JOY         534\n",
      "Name:  [Bonkers], dtype: int64\n",
      "\n",
      " [Bottle Caps] 0.4096146205800556\n",
      "DESPAIR    2972\n",
      "JOY        2062\n",
      "Name:  [Bottle Caps], dtype: int64\n",
      "\n",
      " [Box’o’ Raisins] 0.1115575966322235\n",
      "DESPAIR    4643\n",
      "JOY         583\n",
      "Name:  [Box’o’ Raisins], dtype: int64\n",
      "\n",
      " [Brach products (not including candy corn)] 0.22506082725060828\n",
      "DESPAIR    3822\n",
      "JOY        1110\n",
      "Name:  [Brach products (not including candy corn)], dtype: int64\n",
      "\n",
      " [Bubble Gum] 0.2684200348095146\n",
      "DESPAIR    3783\n",
      "JOY        1388\n",
      "Name:  [Bubble Gum], dtype: int64\n",
      "\n",
      " [Cadbury Creme Eggs] 0.5862528560548362\n",
      "JOY        3079\n",
      "DESPAIR    2173\n",
      "Name:  [Cadbury Creme Eggs], dtype: int64\n",
      "\n",
      " [Candy Corn] 0.3949579831932773\n",
      "DESPAIR    3168\n",
      "JOY        2068\n",
      "Name:  [Candy Corn], dtype: int64\n",
      "\n",
      " [Vials of pure high fructose corn syrup, for main-lining into your vein] 0.16058394160583941\n",
      "DESPAIR    4255\n",
      "JOY         814\n",
      "Name:  [Vials of pure high fructose corn syrup, for main-lining into your vein], dtype: int64\n",
      "\n",
      " [Candy that is clearly just the stuff given out for free at restaurants] 0.04331306990881459\n",
      "DESPAIR    5036\n",
      "JOY         228\n",
      "Name:  [Candy that is clearly just the stuff given out for free at restaurants], dtype: int64\n",
      "\n",
      " [Cash, or other forms of legal tender] 0.8209123333959076\n",
      "JOY        4373\n",
      "DESPAIR     954\n",
      "Name:  [Cash, or other forms of legal tender], dtype: int64\n",
      "\n",
      " [Chiclets] 0.2772354549004295\n",
      "DESPAIR    3702\n",
      "JOY        1420\n",
      "Name:  [Chiclets], dtype: int64\n",
      "\n",
      " [Caramellos] 0.6511027220345719\n",
      "JOY        3277\n",
      "DESPAIR    1756\n",
      "Name:  [Caramellos], dtype: int64\n",
      "\n",
      " [Snickers] 0.8750936329588015\n",
      "JOY        4673\n",
      "DESPAIR     667\n",
      "Name:  [Snickers], dtype: int64\n",
      "\n",
      " [Dark Chocolate Hershey] 0.694106463878327\n",
      "JOY        3651\n",
      "DESPAIR    1609\n",
      "Name:  [Dark Chocolate Hershey], dtype: int64\n",
      "\n",
      " [Dental paraphenalia] 0.0680015111446921\n",
      "DESPAIR    4934\n",
      "JOY         360\n",
      "Name:  [Dental paraphenalia], dtype: int64\n",
      "\n",
      " [Dots] 0.3651936928168192\n",
      "DESPAIR    3261\n",
      "JOY        1876\n",
      "Name:  [Dots], dtype: int64\n",
      "\n",
      " [Fuzzy Peaches] 0.295678391959799\n",
      "DESPAIR    3504\n",
      "JOY        1471\n",
      "Name:  [Fuzzy Peaches], dtype: int64\n",
      "\n",
      " [Generic Brand Acetaminophen] 0.10729697920753237\n",
      "DESPAIR    4551\n",
      "JOY         547\n",
      "Name:  [Generic Brand Acetaminophen], dtype: int64\n",
      "\n",
      " [Glow sticks] 0.5154738878143134\n",
      "JOY        2665\n",
      "DESPAIR    2505\n",
      "Name:  [Glow sticks], dtype: int64\n",
      "\n",
      " [Broken glow stick] 0.019318181818181818\n",
      "DESPAIR    5178\n",
      "JOY         102\n",
      "Name:  [Broken glow stick], dtype: int64\n",
      "\n",
      " [Goo Goo Clusters] 0.2646934460887949\n",
      "DESPAIR    3478\n",
      "JOY        1252\n",
      "Name:  [Goo Goo Clusters], dtype: int64\n",
      "\n",
      " [Good N' Plenty] 0.2678819100455716\n",
      "DESPAIR    3695\n",
      "JOY        1352\n",
      "Name:  [Good N' Plenty], dtype: int64\n",
      "\n",
      " [Gum from baseball cards] 0.05399151561897416\n",
      "DESPAIR    4906\n",
      "JOY         280\n",
      "Name:  [Gum from baseball cards], dtype: int64\n",
      "\n",
      " [Gummy Bears straight up] 0.5667307692307693\n",
      "JOY        2947\n",
      "DESPAIR    2253\n",
      "Name:  [Gummy Bears straight up], dtype: int64\n",
      "\n",
      " [Creepy Religious comics/Chick Tracts] 0.09669499527856468\n",
      "DESPAIR    4783\n",
      "JOY         512\n",
      "Name:  [Creepy Religious comics/Chick Tracts], dtype: int64\n",
      "\n",
      " [Healthy Fruit] 0.1881091617933723\n",
      "DESPAIR    4165\n",
      "JOY         965\n",
      "Name:  [Healthy Fruit], dtype: int64\n",
      "\n",
      " [Heath Bar] 0.6420807453416149\n",
      "JOY        3308\n",
      "DESPAIR    1844\n",
      "Name:  [Heath Bar], dtype: int64\n",
      "\n",
      " [Hershey’s Kissables] 0.6075569772091164\n",
      "JOY        3039\n",
      "DESPAIR    1963\n",
      "Name:  [Hershey’s Kissables], dtype: int64\n",
      "\n",
      " [Hershey’s Milk Chocolate] 0.6893807027761599\n",
      "JOY        3551\n",
      "DESPAIR    1600\n",
      "Name:  [Hershey’s Milk Chocolate], dtype: int64\n",
      "\n",
      " [Hugs (actual physical hugs)] 0.22469280280866002\n",
      "DESPAIR    3975\n",
      "JOY        1152\n",
      "Name:  [Hugs (actual physical hugs)], dtype: int64\n",
      "\n",
      " [Jolly Rancher (bad flavor)] 0.12740569668976134\n",
      "DESPAIR    4534\n",
      "JOY         662\n",
      "Name:  [Jolly Rancher (bad flavor)], dtype: int64\n",
      "\n",
      " [Jolly Ranchers (good flavor)] 0.6248325999617371\n",
      "JOY        3266\n",
      "DESPAIR    1961\n",
      "Name:  [Jolly Ranchers (good flavor)], dtype: int64\n",
      "\n",
      " [Kale smoothie] 0.05765904285988853\n",
      "DESPAIR    4903\n",
      "JOY         300\n",
      "Name:  [Kale smoothie], dtype: int64\n",
      "\n",
      " [Kinder Happy Hippo] 0.29174623382134524\n",
      "DESPAIR    3338\n",
      "JOY        1375\n",
      "Name:  [Kinder Happy Hippo], dtype: int64\n",
      "\n",
      " [Kit Kat] 0.9063670411985019\n",
      "JOY        4840\n",
      "DESPAIR     500\n",
      "Name:  [Kit Kat], dtype: int64\n",
      "\n",
      " [Hard Candy] 0.30096308186195825\n",
      "DESPAIR    3484\n",
      "JOY        1500\n",
      "Name:  [Hard Candy], dtype: int64\n",
      "\n",
      " [Lapel Pins] 0.0931068931068931\n",
      "DESPAIR    4539\n",
      "JOY         466\n",
      "Name:  [Lapel Pins], dtype: int64\n",
      "\n",
      " [LemonHeads] 0.5296660117878192\n",
      "JOY        2696\n",
      "DESPAIR    2394\n",
      "Name:  [LemonHeads], dtype: int64\n",
      "\n",
      " [Licorice] 0.28107074569789675\n",
      "DESPAIR    3760\n",
      "JOY        1470\n",
      "Name:  [Licorice], dtype: int64\n",
      "\n",
      " [Licorice (not black)] 0.46553407537590313\n",
      "DESPAIR    2737\n",
      "JOY        2384\n",
      "Name:  [Licorice (not black)], dtype: int64\n",
      "\n",
      " [Lindt Truffle] 0.7726660250240616\n",
      "JOY        4014\n",
      "DESPAIR    1181\n",
      "Name:  [Lindt Truffle], dtype: int64\n",
      "\n",
      " [Lollipops] 0.45811727163940963\n",
      "DESPAIR    2717\n",
      "JOY        2297\n",
      "Name:  [Lollipops], dtype: int64\n",
      "\n",
      " [Mars] 0.6798245614035088\n",
      "JOY        3410\n",
      "DESPAIR    1606\n",
      "Name:  [Mars], dtype: int64\n",
      "\n",
      " [Mary Janes] 0.2394185549380077\n",
      "DESPAIR    3558\n",
      "JOY        1120\n",
      "Name:  [Mary Janes], dtype: int64\n",
      "\n",
      " [Maynards] 0.1272644927536232\n",
      "DESPAIR    3854\n",
      "JOY         562\n",
      "Name:  [Maynards], dtype: int64\n",
      "\n",
      " [Milk Duds] 0.6051502145922747\n",
      "JOY        3102\n",
      "DESPAIR    2024\n",
      "Name:  [Milk Duds], dtype: int64\n",
      "\n",
      " [LaffyTaffy] 0.46654719235364395\n",
      "DESPAIR    2679\n",
      "JOY        2343\n",
      "Name:  [LaffyTaffy], dtype: int64\n",
      "\n",
      " [Minibags of chips] 0.41300421432871764\n",
      "DESPAIR    2925\n",
      "JOY        2058\n",
      "Name:  [Minibags of chips], dtype: int64\n",
      "\n",
      " [JoyJoy (Mit Iodine)] 0.055008944543828264\n",
      "DESPAIR    4226\n",
      "JOY         246\n",
      "Name:  [JoyJoy (Mit Iodine)], dtype: int64\n",
      "\n",
      " [Reggie Jackson Bar] 0.17081447963800905\n",
      "DESPAIR    3665\n",
      "JOY         755\n",
      "Name:  [Reggie Jackson Bar], dtype: int64\n",
      "\n",
      " [Pixy Stix] 0.4820827558899228\n",
      "DESPAIR    2616\n",
      "JOY        2435\n",
      "Name:  [Pixy Stix], dtype: int64\n",
      "\n",
      " [Nerds] 0.682893977294593\n",
      "JOY        3549\n",
      "DESPAIR    1648\n",
      "Name:  [Nerds], dtype: int64\n",
      "\n",
      " [Nestle Crunch] 0.8060594365109996\n",
      "JOY        4177\n",
      "DESPAIR    1005\n",
      "Name:  [Nestle Crunch], dtype: int64\n",
      "\n",
      " [Now'n'Laters] 0.3758996504215505\n",
      "DESPAIR    3035\n",
      "JOY        1828\n",
      "Name:  [Now'n'Laters], dtype: int64\n",
      "\n",
      " [Pencils] 0.11697065820777161\n",
      "DESPAIR    4454\n",
      "JOY         590\n",
      "Name:  [Pencils], dtype: int64\n",
      "\n",
      " [Milky Way] 0.7852855759922556\n",
      "JOY        4056\n",
      "DESPAIR    1109\n",
      "Name:  [Milky Way], dtype: int64\n",
      "\n",
      " [Reese’s Peanut Butter Cups] 0.9071282337613996\n",
      "JOY        4874\n",
      "DESPAIR     499\n",
      "Name:  [Reese’s Peanut Butter Cups], dtype: int64\n",
      "\n",
      " [Tolberone something or other] 0.7718172983479106\n",
      "JOY        3971\n",
      "DESPAIR    1174\n",
      "Name:  [Tolberone something or other], dtype: int64\n",
      "\n",
      " [Runts] 0.48170608449565394\n",
      "DESPAIR    2564\n",
      "JOY        2383\n",
      "Name:  [Runts], dtype: int64\n",
      "\n",
      " [Junior Mints] 0.6540092521202776\n",
      "JOY        3393\n",
      "DESPAIR    1795\n",
      "Name:  [Junior Mints], dtype: int64\n",
      "\n",
      " [Senior Mints] 0.14156820622986035\n",
      "DESPAIR    3996\n",
      "JOY         659\n",
      "Name:  [Senior Mints], dtype: int64\n",
      "\n",
      " [Mint Kisses] 0.3736699353223451\n",
      "DESPAIR    3002\n",
      "JOY        1791\n",
      "Name:  [Mint Kisses], dtype: int64\n",
      "\n",
      " [Mint Juleps] 0.4662613981762918\n",
      "DESPAIR    2634\n",
      "JOY        2301\n",
      "Name:  [Mint Juleps], dtype: int64\n",
      "\n",
      " [Mint Leaves] 0.14422876226257567\n",
      "DESPAIR    4100\n",
      "JOY         691\n",
      "Name:  [Mint Leaves], dtype: int64\n",
      "\n",
      " [Peanut M&M’s] 0.8111677042067534\n",
      "JOY        4300\n",
      "DESPAIR    1001\n",
      "Name:  [Peanut M&M’s], dtype: int64\n",
      "\n",
      " [Regular M&Ms] 0.8138379204892966\n",
      "JOY        4258\n",
      "DESPAIR     974\n",
      "Name:  [Regular M&Ms], dtype: int64\n",
      "\n",
      " [Mint M&Ms] 0.49123156636110005\n",
      "DESPAIR    2553\n",
      "JOY        2465\n",
      "Name:  [Mint M&Ms], dtype: int64\n",
      "\n",
      " [Ribbon candy] 0.19901112484548825\n",
      "DESPAIR    3888\n",
      "JOY         966\n",
      "Name:  [Ribbon candy], dtype: int64\n",
      "\n",
      " [Rolos] 0.7697228144989339\n",
      "JOY        3971\n",
      "DESPAIR    1188\n",
      "Name:  [Rolos], dtype: int64\n",
      "\n",
      " [Skittles] 0.7212132921174652\n",
      "JOY        3733\n",
      "DESPAIR    1443\n",
      "Name:  [Skittles], dtype: int64\n",
      "\n",
      " [Smarties (American)] 0.5663047692904226\n",
      "JOY        2921\n",
      "DESPAIR    2237\n",
      "Name:  [Smarties (American)], dtype: int64\n",
      "\n",
      " [Smarties (Commonwealth)] 0.35515230071289694\n",
      "DESPAIR    2985\n",
      "JOY        1644\n",
      "Name:  [Smarties (Commonwealth)], dtype: int64\n",
      "\n",
      " [Chick-o-Sticks (we don’t know what that is)] 0.19537953795379537\n",
      "DESPAIR    3657\n",
      "JOY         888\n",
      "Name:  [Chick-o-Sticks (we don’t know what that is)], dtype: int64\n",
      "\n",
      " [Spotted Dick] 0.06240713224368499\n",
      "DESPAIR    4417\n",
      "JOY         294\n",
      "Name:  [Spotted Dick], dtype: int64\n",
      "\n",
      " [Starburst] 0.7124563445867288\n",
      "JOY        3672\n",
      "DESPAIR    1482\n",
      "Name:  [Starburst], dtype: int64\n",
      "\n",
      " [Swedish Fish] 0.5654470749364117\n",
      "JOY        2890\n",
      "DESPAIR    2221\n",
      "Name:  [Swedish Fish], dtype: int64\n",
      "\n",
      " [Sweetums] 0.14904171364148816\n",
      "DESPAIR    3774\n",
      "JOY         661\n",
      "Name:  [Sweetums], dtype: int64\n",
      "\n",
      " [Those odd marshmallow circus peanut things] 0.15831702544031312\n",
      "DESPAIR    4301\n",
      "JOY         809\n",
      "Name:  [Those odd marshmallow circus peanut things], dtype: int64\n",
      "\n",
      " [Three Musketeers] 0.7366984993178718\n",
      "JOY        3780\n",
      "DESPAIR    1351\n",
      "Name:  [Three Musketeers], dtype: int64\n",
      "\n",
      " [Peterson Brand Sidewalk Chalk] 0.11284539126766505\n",
      "DESPAIR    4206\n",
      "JOY         535\n",
      "Name:  [Peterson Brand Sidewalk Chalk], dtype: int64\n",
      "\n",
      " [Peanut Butter Bars] 0.4888120423108218\n",
      "DESPAIR    2513\n",
      "JOY        2403\n",
      "Name:  [Peanut Butter Bars], dtype: int64\n",
      "\n",
      " [Peanut Butter Jars] 0.27890173410404623\n",
      "DESPAIR    3493\n",
      "JOY        1351\n",
      "Name:  [Peanut Butter Jars], dtype: int64\n",
      "\n",
      " [Trail Mix] 0.2435767752377099\n",
      "DESPAIR    3739\n",
      "JOY        1204\n",
      "Name:  [Trail Mix], dtype: int64\n",
      "\n",
      " [Twix] 0.8840524615092188\n",
      "JOY        4651\n",
      "DESPAIR     610\n",
      "Name:  [Twix], dtype: int64\n",
      "\n",
      " [Vicodin] 0.5020032051282052\n",
      "JOY        2506\n",
      "DESPAIR    2486\n",
      "Name:  [Vicodin], dtype: int64\n",
      "\n",
      " [White Bread] 0.0539995970179327\n",
      "DESPAIR    4695\n",
      "JOY         268\n",
      "Name:  [White Bread], dtype: int64\n",
      "\n",
      " [Whole Wheat anything] 0.0897513644633111\n",
      "DESPAIR    4503\n",
      "JOY         444\n",
      "Name:  [Whole Wheat anything], dtype: int64\n",
      "\n",
      " [York Peppermint Patties] 0.6976384049554781\n",
      "JOY        3604\n",
      "DESPAIR    1562\n",
      "Name:  [York Peppermint Patties], dtype: int64\n",
      "\n"
     ]
    }
   ],
   "source": [
    "# Joy occurence, [0] is joy, [1] is despair WRONG, the most goes first, nvm just do sort=false \n",
    "listofpercents = []\n",
    "for i in range(3,96):\n",
    "    filler = dt[dt.columns[i]].dropna()\n",
    "    joyspercent = filler.value_counts()[\"JOY\"]/sum(filler.value_counts())\n",
    "    listofpercents.append(joyspercent)\n",
    "    print(dt.columns[i],joyspercent)\n",
    "    print(filler.value_counts())\n",
    "    print()"
   ]
  },
  {
   "cell_type": "code",
   "execution_count": 7,
   "metadata": {},
   "outputs": [
    {
     "data": {
      "text/plain": [
       "(array([12., 17., 12.,  6., 10.,  7., 12.,  8.,  6.,  3.]),\n",
       " array([0. , 0.1, 0.2, 0.3, 0.4, 0.5, 0.6, 0.7, 0.8, 0.9, 1. ]),\n",
       " <BarContainer object of 10 artists>)"
      ]
     },
     "execution_count": 7,
     "metadata": {},
     "output_type": "execute_result"
    },
    {
     "data": {
      "image/png": "[encoded data removed]",
      "text/plain": [
       "<Figure size 432x288 with 1 Axes>"
      ]
     },
     "metadata": {
      "needs_background": "light"
     },
     "output_type": "display_data"
    }
   ],
   "source": [
    "plt.hist(listofpercents, bins=[0,0.1,0.2,0.3,0.4,0.5,0.6,0.7,0.8,0.9,1])"
   ]
  },
  {
   "cell_type": "code",
   "execution_count": 8,
   "metadata": {},
   "outputs": [
    {
     "data": {
      "text/plain": [
       "float"
      ]
     },
     "execution_count": 8,
     "metadata": {},
     "output_type": "execute_result"
    }
   ],
   "source": [
    "type(dt['How old are you?'][36])"
   ]
  },
  {
   "cell_type": "code",
   "execution_count": 9,
   "metadata": {},
   "outputs": [
    {
     "data": {
      "text/plain": [
       "2"
      ]
     },
     "execution_count": 9,
     "metadata": {},
     "output_type": "execute_result"
    }
   ],
   "source": [
    "dt['Are you going actually going trick or treating yourself?'].nunique()"
   ]
  },
  {
   "cell_type": "code",
   "execution_count": 10,
   "metadata": {},
   "outputs": [
    {
     "data": {
      "text/plain": [
       "(5630, 124)"
      ]
     },
     "execution_count": 10,
     "metadata": {},
     "output_type": "execute_result"
    }
   ],
   "source": [
    "dt.shape #5630 * 124 the original"
   ]
  },
  {
   "cell_type": "code",
   "execution_count": 11,
   "metadata": {},
   "outputs": [
    {
     "data": {
      "text/plain": [
       "0           JOY\n",
       "1           JOY\n",
       "2       DESPAIR\n",
       "3           JOY\n",
       "5           JOY\n",
       "         ...   \n",
       "5624    DESPAIR\n",
       "5625    DESPAIR\n",
       "5626        JOY\n",
       "5628        JOY\n",
       "5629    DESPAIR\n",
       "Name:  [Butterfinger], Length: 5247, dtype: object"
      ]
     },
     "execution_count": 11,
     "metadata": {},
     "output_type": "execute_result"
    }
   ],
   "source": [
    "butter = dt[' [Butterfinger]'].dropna()\n",
    "butter"
   ]
  },
  {
   "cell_type": "code",
   "execution_count": 12,
   "metadata": {},
   "outputs": [
    {
     "data": {
      "text/plain": [
       "<AxesSubplot:>"
      ]
     },
     "execution_count": 12,
     "metadata": {},
     "output_type": "execute_result"
    },
    {
     "data": {
      "image/png": "[encoded data removed]",
      "text/plain": [
       "<Figure size 432x288 with 1 Axes>"
      ]
     },
     "metadata": {
      "needs_background": "light"
     },
     "output_type": "display_data"
    }
   ],
   "source": [
    "butter.hist()"
   ]
  },
  {
   "cell_type": "code",
   "execution_count": 13,
   "metadata": {},
   "outputs": [
    {
     "data": {
      "text/plain": [
       "JOY        4129\n",
       "DESPAIR    1118\n",
       "Name:  [Butterfinger], dtype: int64"
      ]
     },
     "execution_count": 13,
     "metadata": {},
     "output_type": "execute_result"
    }
   ],
   "source": [
    "butter.value_counts()"
   ]
  },
  {
   "cell_type": "code",
   "execution_count": 14,
   "metadata": {},
   "outputs": [
    {
     "data": {
      "text/plain": [
       "0.7869258623975605"
      ]
     },
     "execution_count": 14,
     "metadata": {},
     "output_type": "execute_result"
    }
   ],
   "source": [
    "# joy occurence # DON'T USE INDEX \n",
    "butter.value_counts()[0]/sum(butter.value_counts())"
   ]
  },
  {
   "cell_type": "code",
   "execution_count": 15,
   "metadata": {},
   "outputs": [
    {
     "data": {
      "text/plain": [
       "4129"
      ]
     },
     "execution_count": 15,
     "metadata": {},
     "output_type": "execute_result"
    }
   ],
   "source": [
    "butter.value_counts()[\"JOY\"]"
   ]
  },
  {
   "cell_type": "code",
   "execution_count": null,
   "metadata": {},
   "outputs": [],
   "source": []
  },
  {
   "cell_type": "code",
   "execution_count": 16,
   "metadata": {},
   "outputs": [
    {
     "data": {
      "text/plain": [
       "2"
      ]
     },
     "execution_count": 16,
     "metadata": {},
     "output_type": "execute_result"
    }
   ],
   "source": [
    "dt[' [Butterfinger]'].nunique()"
   ]
  },
  {
   "cell_type": "code",
   "execution_count": 17,
   "metadata": {},
   "outputs": [
    {
     "data": {
      "text/plain": [
       "Timestamp                                                                                           0\n",
       "How old are you?                                                                                  199\n",
       "Are you going actually going trick or treating yourself?                                            0\n",
       " [Butterfinger]                                                                                   383\n",
       " [100 Grand Bar]                                                                                  656\n",
       "                                                                                                 ... \n",
       "Please estimate the degrees of separation you have from the following folks [Thom Yorke]         5630\n",
       "Please estimate the degrees of separation you have from the following folks [JJ Abrams]          5630\n",
       "Please estimate the degrees of separation you have from the following folks [Hillary Clinton]    5630\n",
       "Please estimate the degrees of separation you have from the following folks [Donald Trump]       5630\n",
       "Please estimate the degrees of separation you have from the following folks [Beyoncé Knowles]    5630\n",
       "Length: 124, dtype: int64"
      ]
     },
     "execution_count": 17,
     "metadata": {},
     "output_type": "execute_result"
    }
   ],
   "source": [
    "NAamount = {}\n",
    "\n",
    "dt.isna().sum()"
   ]
  },
  {
   "cell_type": "code",
   "execution_count": 18,
   "metadata": {},
   "outputs": [
    {
     "data": {
      "text/plain": [
       "'Timestamp'"
      ]
     },
     "execution_count": 18,
     "metadata": {},
     "output_type": "execute_result"
    }
   ],
   "source": [
    "NAs = dt.isna().sum()\n",
    "NAs.keys()[0]"
   ]
  },
  {
   "cell_type": "code",
   "execution_count": 19,
   "metadata": {},
   "outputs": [
    {
     "name": "stdout",
     "output_type": "stream",
     "text": [
      "Timestamp 0\n",
      "How old are you? 199\n",
      "Are you going actually going trick or treating yourself? 0\n",
      " [Butterfinger] 383\n",
      " [100 Grand Bar] 656\n",
      " [Anonymous brown globs that come in black and orange wrappers] 298\n",
      " [Any full-sized candy bar] 277\n",
      " [Black Jacks] 991\n",
      " [Bonkers] 1182\n",
      " [Bottle Caps] 596\n",
      " [Box’o’ Raisins] 404\n",
      " [Brach products (not including candy corn)] 698\n",
      " [Bubble Gum] 459\n",
      " [Cadbury Creme Eggs] 378\n",
      " [Candy Corn] 394\n",
      " [Vials of pure high fructose corn syrup, for main-lining into your vein] 561\n",
      " [Candy that is clearly just the stuff given out for free at restaurants] 366\n",
      " [Cash, or other forms of legal tender] 303\n",
      " [Chiclets] 508\n",
      " [Caramellos] 597\n",
      " [Snickers] 290\n",
      " [Dark Chocolate Hershey] 370\n",
      " [Dental paraphenalia] 336\n",
      " [Dots] 493\n",
      " [Fuzzy Peaches] 655\n",
      " [Generic Brand Acetaminophen] 532\n",
      " [Glow sticks] 460\n",
      " [Broken glow stick] 350\n",
      " [Goo Goo Clusters] 900\n",
      " [Good N' Plenty] 583\n",
      " [Gum from baseball cards] 444\n",
      " [Gummy Bears straight up] 430\n",
      " [Creepy Religious comics/Chick Tracts] 335\n",
      " [Healthy Fruit] 500\n",
      " [Heath Bar] 478\n",
      " [Hershey’s Kissables] 628\n",
      " [Hershey’s Milk Chocolate] 479\n",
      " [Hugs (actual physical hugs)] 503\n",
      " [Jolly Rancher (bad flavor)] 434\n",
      " [Jolly Ranchers (good flavor)] 403\n",
      " [Kale smoothie] 427\n",
      " [Kinder Happy Hippo] 917\n",
      " [Kit Kat] 290\n",
      " [Hard Candy] 646\n",
      " [Lapel Pins] 625\n",
      " [LemonHeads] 540\n",
      " [Licorice] 400\n",
      " [Licorice (not black)] 509\n",
      " [Lindt Truffle] 435\n",
      " [Lollipops] 616\n",
      " [Mars] 614\n",
      " [Mary Janes] 952\n",
      " [Maynards] 1214\n",
      " [Milk Duds] 504\n",
      " [LaffyTaffy] 608\n",
      " [Minibags of chips] 647\n",
      " [JoyJoy (Mit Iodine)] 1158\n",
      " [Reggie Jackson Bar] 1210\n",
      " [Pixy Stix] 579\n",
      " [Nerds] 433\n",
      " [Nestle Crunch] 448\n",
      " [Now'n'Laters] 767\n",
      " [Pencils] 586\n",
      " [Milky Way] 465\n",
      " [Reese’s Peanut Butter Cups] 257\n",
      " [Tolberone something or other] 485\n",
      " [Runts] 683\n",
      " [Junior Mints] 442\n",
      " [Senior Mints] 975\n",
      " [Mint Kisses] 837\n",
      " [Mint Juleps] 695\n",
      " [Mint Leaves] 839\n",
      " [Peanut M&M’s] 329\n",
      " [Regular M&Ms] 398\n",
      " [Mint M&Ms] 612\n",
      " [Ribbon candy] 776\n",
      " [Rolos] 471\n",
      " [Skittles] 454\n",
      " [Smarties (American)] 472\n",
      " [Smarties (Commonwealth)] 1001\n",
      " [Chick-o-Sticks (we don’t know what that is)] 1085\n",
      " [Spotted Dick] 919\n",
      " [Starburst] 476\n",
      " [Swedish Fish] 519\n",
      " [Sweetums] 1195\n",
      " [Those odd marshmallow circus peanut things] 520\n",
      " [Three Musketeers] 499\n",
      " [Peterson Brand Sidewalk Chalk] 889\n",
      " [Peanut Butter Bars] 714\n",
      " [Peanut Butter Jars] 786\n",
      " [Trail Mix] 687\n",
      " [Twix] 369\n",
      " [Vicodin] 638\n",
      " [White Bread] 667\n",
      " [Whole Wheat anything] 683\n",
      " [York Peppermint Patties] 464\n",
      "Please leave any remarks or comments regarding your choices. 4745\n",
      "Please list any items not included above that give you JOY. 3196\n",
      "Please list any items not included above that give you DESPAIR. 3858\n",
      "Guess the number of mints in my hand. 478\n",
      "Betty or Veronica? 294\n",
      "Check all that apply: \"I cried tears of sadness at the end of  ____________\" 928\n",
      "\"That dress* that went viral early this year - when I first saw it, it was ________\" 520\n",
      "Fill in the blank: \"Taylor Swift is a force for ___________\" 5630\n",
      "What is your favourite font? 1076\n",
      "If you squint really hard, the words \"Intelligent Design\" would look like. 632\n",
      "Fill in the blank: \"Imitation is a form of ____________\" 409\n",
      "Please estimate the degree(s) of separation you have from the following celebrities [JK Rowling] 551\n",
      "Please estimate the degree(s) of separation you have from the following celebrities [JJ Abrams] 557\n",
      "Please estimate the degree(s) of separation you have from the following celebrities [Beyoncé] 562\n",
      "Please estimate the degree(s) of separation you have from the following celebrities [Bieber] 584\n",
      "Please estimate the degree(s) of separation you have from the following celebrities [Kevin Bacon] 555\n",
      "Please estimate the degree(s) of separation you have from the following celebrities [Francis Bacon (1561 - 1626)] 565\n",
      " [Sea-salt flavored stuff, probably chocolate, since this is the \"it\" flavor of the year] 580\n",
      " [Necco Wafers] 683\n",
      "Which day do you prefer, Friday or Sunday? 1037\n",
      "Please estimate the degrees of separation you have from the following folks [Bruce Lee] 5630\n",
      "Please estimate the degrees of separation you have from the following folks [JK Rowling] 5630\n",
      "Please estimate the degrees of separation you have from the following folks [Malala Yousafzai] 5630\n",
      "Please estimate the degrees of separation you have from the following folks [Thom Yorke] 5630\n",
      "Please estimate the degrees of separation you have from the following folks [JJ Abrams] 5630\n",
      "Please estimate the degrees of separation you have from the following folks [Hillary Clinton] 5630\n",
      "Please estimate the degrees of separation you have from the following folks [Donald Trump] 5630\n",
      "Please estimate the degrees of separation you have from the following folks [Beyoncé Knowles] 5630\n"
     ]
    }
   ],
   "source": [
    "for num in range(len(dt.isna().sum())):\n",
    "    print(NAs.keys()[num],NAs[num])"
   ]
  },
  {
   "cell_type": "code",
   "execution_count": 20,
   "metadata": {},
   "outputs": [],
   "source": [
    "def allnans(df):\n",
    "    return df if type(df)==int else None"
   ]
  },
  {
   "cell_type": "code",
   "execution_count": 21,
   "metadata": {},
   "outputs": [
    {
     "data": {
      "text/plain": [
       "(5630,)"
      ]
     },
     "execution_count": 21,
     "metadata": {},
     "output_type": "execute_result"
    }
   ],
   "source": [
    "#dt['How old are you?'] = dt['How old are you?'].apply(allnans)\n",
    "dt['How old are you?'] = dt['How old are you?'].dropna()\n",
    "dt['How old are you?'].shape\n"
   ]
  },
  {
   "cell_type": "code",
   "execution_count": 22,
   "metadata": {},
   "outputs": [
    {
     "data": {
      "text/plain": [
       "'enough'"
      ]
     },
     "execution_count": 22,
     "metadata": {},
     "output_type": "execute_result"
    }
   ],
   "source": [
    "dt['How old are you?'][57]"
   ]
  },
  {
   "cell_type": "code",
   "execution_count": 23,
   "metadata": {},
   "outputs": [],
   "source": [
    "ages = dt['How old are you?'].dropna()"
   ]
  },
  {
   "cell_type": "code",
   "execution_count": 24,
   "metadata": {},
   "outputs": [
    {
     "data": {
      "text/plain": [
       "0    35\n",
       "1    41\n",
       "2    33\n",
       "3    31\n",
       "4    30\n",
       "Name: How old are you?, dtype: object"
      ]
     },
     "execution_count": 24,
     "metadata": {},
     "output_type": "execute_result"
    }
   ],
   "source": [
    "ages.head()\n"
   ]
  },
  {
   "cell_type": "code",
   "execution_count": 25,
   "metadata": {},
   "outputs": [],
   "source": [
    "correctages = dt[pd.to_numeric(dt['How old are you?'], errors='coerce').notnull()]"
   ]
  },
  {
   "cell_type": "code",
   "execution_count": 26,
   "metadata": {},
   "outputs": [
    {
     "data": {
      "text/plain": [
       "(5346, 124)"
      ]
     },
     "execution_count": 26,
     "metadata": {},
     "output_type": "execute_result"
    }
   ],
   "source": [
    "correctages.shape"
   ]
  },
  {
   "cell_type": "code",
   "execution_count": 27,
   "metadata": {},
   "outputs": [],
   "source": [
    "correctages = pd.to_numeric(correctages[\"How old are you?\"])"
   ]
  },
  {
   "cell_type": "code",
   "execution_count": 28,
   "metadata": {},
   "outputs": [
    {
     "data": {
      "text/plain": [
       "0       35.0\n",
       "1       41.0\n",
       "2       33.0\n",
       "3       31.0\n",
       "4       30.0\n",
       "        ... \n",
       "5625    50.0\n",
       "5626    43.0\n",
       "5627    35.0\n",
       "5628    38.0\n",
       "5629    44.0\n",
       "Name: How old are you?, Length: 5346, dtype: float64"
      ]
     },
     "execution_count": 28,
     "metadata": {},
     "output_type": "execute_result"
    }
   ],
   "source": [
    "correctages "
   ]
  },
  {
   "cell_type": "code",
   "execution_count": null,
   "metadata": {},
   "outputs": [],
   "source": [
    "correctages"
   ]
  },
  {
   "cell_type": "code",
   "execution_count": null,
   "metadata": {},
   "outputs": [
    {
     "name": "stderr",
     "output_type": "stream",
     "text": [
      "C:\\Users\\lowde\\AppData\\Local\\Temp/ipykernel_5952/3179182728.py:2: SettingWithCopyWarning: \n",
      "A value is trying to be set on a copy of a slice from a DataFrame.\n",
      "Try using .loc[row_indexer,col_indexer] = value instead\n",
      "\n",
      "See the caveats in the documentation: https://pandas.pydata.org/pandas-docs/stable/user_guide/indexing.html#returning-a-view-versus-a-copy\n",
      "  zscores['z_score']=stats.zscore(zscores['How old are you?'])\n"
     ]
    }
   ],
   "source": [
    "zscores = actualages\n",
    "zscores['z_score']=stats.zscore(zscores['How old are you?'])"
   ]
  },
  {
   "cell_type": "code",
   "execution_count": null,
   "metadata": {},
   "outputs": [
    {
     "name": "stderr",
     "output_type": "stream",
     "text": [
      "C:\\Users\\lowde\\AppData\\Local\\Temp/ipykernel_5952/1136934107.py:1: SettingWithCopyWarning: \n",
      "A value is trying to be set on a copy of a slice from a DataFrame.\n",
      "Try using .loc[row_indexer,col_indexer] = value instead\n",
      "\n",
      "See the caveats in the documentation: https://pandas.pydata.org/pandas-docs/stable/user_guide/indexing.html#returning-a-view-versus-a-copy\n",
      "  zscores['z_score']=stats.zscore(zscores['How old are you?'])\n"
     ]
    }
   ],
   "source": [
    "zscores['z_score']=stats.zscore(zscores['How old are you?'])"
   ]
  },
  {
   "cell_type": "code",
   "execution_count": null,
   "metadata": {},
   "outputs": [
    {
     "ename": "NameError",
     "evalue": "name 'zscores' is not defined",
     "output_type": "error",
     "traceback": [
      "\u001b[1;31m---------------------------------------------------------------------------\u001b[0m",
      "\u001b[1;31mNameError\u001b[0m                                 Traceback (most recent call last)",
      "\u001b[1;32m~\\AppData\\Local\\Temp/ipykernel_37760/673274361.py\u001b[0m in \u001b[0;36m<module>\u001b[1;34m\u001b[0m\n\u001b[1;32m----> 1\u001b[1;33m \u001b[0mzscores\u001b[0m\u001b[1;33m\u001b[0m\u001b[1;33m\u001b[0m\u001b[0m\n\u001b[0m",
      "\u001b[1;31mNameError\u001b[0m: name 'zscores' is not defined"
     ]
    }
   ],
   "source": [
    "zscores"
   ]
  },
  {
   "cell_type": "code",
   "execution_count": null,
   "metadata": {},
   "outputs": [
    {
     "data": {
      "text/html": [
       "<div>\n",
       "<style scoped>\n",
       "    .dataframe tbody tr th:only-of-type {\n",
       "        vertical-align: middle;\n",
       "    }\n",
       "\n",
       "    .dataframe tbody tr th {\n",
       "        vertical-align: top;\n",
       "    }\n",
       "\n",
       "    .dataframe thead th {\n",
       "        text-align: right;\n",
       "    }\n",
       "</style>\n",
       "<table border=\"1\" class=\"dataframe\">\n",
       "  <thead>\n",
       "    <tr style=\"text-align: right;\">\n",
       "      <th></th>\n",
       "      <th>How old are you?</th>\n",
       "      <th>z_score</th>\n",
       "    </tr>\n",
       "  </thead>\n",
       "  <tbody>\n",
       "    <tr>\n",
       "      <th>464</th>\n",
       "      <td>75.00</td>\n",
       "      <td>3.295659</td>\n",
       "    </tr>\n",
       "    <tr>\n",
       "      <th>680</th>\n",
       "      <td>74.00</td>\n",
       "      <td>3.209207</td>\n",
       "    </tr>\n",
       "    <tr>\n",
       "      <th>681</th>\n",
       "      <td>74.00</td>\n",
       "      <td>3.209207</td>\n",
       "    </tr>\n",
       "    <tr>\n",
       "      <th>888</th>\n",
       "      <td>72.00</td>\n",
       "      <td>3.036302</td>\n",
       "    </tr>\n",
       "    <tr>\n",
       "      <th>1130</th>\n",
       "      <td>99.00</td>\n",
       "      <td>5.370517</td>\n",
       "    </tr>\n",
       "    <tr>\n",
       "      <th>1279</th>\n",
       "      <td>72.00</td>\n",
       "      <td>3.036302</td>\n",
       "    </tr>\n",
       "    <tr>\n",
       "      <th>1287</th>\n",
       "      <td>72.00</td>\n",
       "      <td>3.036302</td>\n",
       "    </tr>\n",
       "    <tr>\n",
       "      <th>1561</th>\n",
       "      <td>77.00</td>\n",
       "      <td>3.468564</td>\n",
       "    </tr>\n",
       "    <tr>\n",
       "      <th>1564</th>\n",
       "      <td>74.00</td>\n",
       "      <td>3.209207</td>\n",
       "    </tr>\n",
       "    <tr>\n",
       "      <th>1569</th>\n",
       "      <td>75.00</td>\n",
       "      <td>3.295659</td>\n",
       "    </tr>\n",
       "    <tr>\n",
       "      <th>1604</th>\n",
       "      <td>100.00</td>\n",
       "      <td>5.456969</td>\n",
       "    </tr>\n",
       "    <tr>\n",
       "      <th>1619</th>\n",
       "      <td>100.00</td>\n",
       "      <td>5.456969</td>\n",
       "    </tr>\n",
       "    <tr>\n",
       "      <th>1796</th>\n",
       "      <td>115.00</td>\n",
       "      <td>6.753755</td>\n",
       "    </tr>\n",
       "    <tr>\n",
       "      <th>2418</th>\n",
       "      <td>75.00</td>\n",
       "      <td>3.295659</td>\n",
       "    </tr>\n",
       "    <tr>\n",
       "      <th>2635</th>\n",
       "      <td>100.00</td>\n",
       "      <td>5.456969</td>\n",
       "    </tr>\n",
       "    <tr>\n",
       "      <th>3437</th>\n",
       "      <td>0.62</td>\n",
       "      <td>-3.134669</td>\n",
       "    </tr>\n",
       "    <tr>\n",
       "      <th>3497</th>\n",
       "      <td>108.00</td>\n",
       "      <td>6.148588</td>\n",
       "    </tr>\n",
       "    <tr>\n",
       "      <th>3521</th>\n",
       "      <td>99.00</td>\n",
       "      <td>5.370517</td>\n",
       "    </tr>\n",
       "    <tr>\n",
       "      <th>4225</th>\n",
       "      <td>85.00</td>\n",
       "      <td>4.160183</td>\n",
       "    </tr>\n",
       "    <tr>\n",
       "      <th>5154</th>\n",
       "      <td>97.00</td>\n",
       "      <td>5.197612</td>\n",
       "    </tr>\n",
       "    <tr>\n",
       "      <th>5224</th>\n",
       "      <td>72.00</td>\n",
       "      <td>3.036302</td>\n",
       "    </tr>\n",
       "    <tr>\n",
       "      <th>5429</th>\n",
       "      <td>0.00</td>\n",
       "      <td>-3.188270</td>\n",
       "    </tr>\n",
       "    <tr>\n",
       "      <th>5536</th>\n",
       "      <td>72.00</td>\n",
       "      <td>3.036302</td>\n",
       "    </tr>\n",
       "  </tbody>\n",
       "</table>\n",
       "</div>"
      ],
      "text/plain": [
       "      How old are you?   z_score\n",
       "464              75.00  3.295659\n",
       "680              74.00  3.209207\n",
       "681              74.00  3.209207\n",
       "888              72.00  3.036302\n",
       "1130             99.00  5.370517\n",
       "1279             72.00  3.036302\n",
       "1287             72.00  3.036302\n",
       "1561             77.00  3.468564\n",
       "1564             74.00  3.209207\n",
       "1569             75.00  3.295659\n",
       "1604            100.00  5.456969\n",
       "1619            100.00  5.456969\n",
       "1796            115.00  6.753755\n",
       "2418             75.00  3.295659\n",
       "2635            100.00  5.456969\n",
       "3437              0.62 -3.134669\n",
       "3497            108.00  6.148588\n",
       "3521             99.00  5.370517\n",
       "4225             85.00  4.160183\n",
       "5154             97.00  5.197612\n",
       "5224             72.00  3.036302\n",
       "5429              0.00 -3.188270\n",
       "5536             72.00  3.036302"
      ]
     },
     "execution_count": 141,
     "metadata": {},
     "output_type": "execute_result"
    }
   ],
   "source": [
    "zscores.loc[zscores['z_score'].abs()>3]"
   ]
  },
  {
   "cell_type": "code",
   "execution_count": null,
   "metadata": {},
   "outputs": [
    {
     "data": {
      "text/html": [
       "<div>\n",
       "<style scoped>\n",
       "    .dataframe tbody tr th:only-of-type {\n",
       "        vertical-align: middle;\n",
       "    }\n",
       "\n",
       "    .dataframe tbody tr th {\n",
       "        vertical-align: top;\n",
       "    }\n",
       "\n",
       "    .dataframe thead th {\n",
       "        text-align: right;\n",
       "    }\n",
       "</style>\n",
       "<table border=\"1\" class=\"dataframe\">\n",
       "  <thead>\n",
       "    <tr style=\"text-align: right;\">\n",
       "      <th></th>\n",
       "      <th>How old are you?</th>\n",
       "    </tr>\n",
       "  </thead>\n",
       "  <tbody>\n",
       "    <tr>\n",
       "      <th>0</th>\n",
       "      <td>35.0</td>\n",
       "    </tr>\n",
       "    <tr>\n",
       "      <th>1</th>\n",
       "      <td>41.0</td>\n",
       "    </tr>\n",
       "    <tr>\n",
       "      <th>2</th>\n",
       "      <td>33.0</td>\n",
       "    </tr>\n",
       "    <tr>\n",
       "      <th>3</th>\n",
       "      <td>31.0</td>\n",
       "    </tr>\n",
       "    <tr>\n",
       "      <th>4</th>\n",
       "      <td>30.0</td>\n",
       "    </tr>\n",
       "    <tr>\n",
       "      <th>...</th>\n",
       "      <td>...</td>\n",
       "    </tr>\n",
       "    <tr>\n",
       "      <th>5625</th>\n",
       "      <td>50.0</td>\n",
       "    </tr>\n",
       "    <tr>\n",
       "      <th>5626</th>\n",
       "      <td>43.0</td>\n",
       "    </tr>\n",
       "    <tr>\n",
       "      <th>5627</th>\n",
       "      <td>35.0</td>\n",
       "    </tr>\n",
       "    <tr>\n",
       "      <th>5628</th>\n",
       "      <td>38.0</td>\n",
       "    </tr>\n",
       "    <tr>\n",
       "      <th>5629</th>\n",
       "      <td>44.0</td>\n",
       "    </tr>\n",
       "  </tbody>\n",
       "</table>\n",
       "<p>5346 rows × 1 columns</p>\n",
       "</div>"
      ],
      "text/plain": [
       "      How old are you?\n",
       "0                 35.0\n",
       "1                 41.0\n",
       "2                 33.0\n",
       "3                 31.0\n",
       "4                 30.0\n",
       "...                ...\n",
       "5625              50.0\n",
       "5626              43.0\n",
       "5627              35.0\n",
       "5628              38.0\n",
       "5629              44.0\n",
       "\n",
       "[5346 rows x 1 columns]"
      ]
     },
     "execution_count": 142,
     "metadata": {},
     "output_type": "execute_result"
    }
   ],
   "source": [
    "correctages"
   ]
  }
 ],
 "metadata": {
  "interpreter": {
   "hash": "ab2e56e5a4f24cad0c49aa93a4628968ee20258e7f82f5186e5fd37b3b8c369f"
  },
  "kernelspec": {
   "display_name": "Python 3.9.7 64-bit",
   "language": "python",
   "name": "python3"
  },
  "language_info": {
   "codemirror_mode": {
    "name": "ipython",
    "version": 3
   },
   "file_extension": ".py",
   "mimetype": "text/x-python",
   "name": "python",
   "nbconvert_exporter": "python",
   "pygments_lexer": "ipython3",
   "version": "3.9.7"
  },
  "orig_nbformat": 4
 },
 "nbformat": 4,
 "nbformat_minor": 2
}
