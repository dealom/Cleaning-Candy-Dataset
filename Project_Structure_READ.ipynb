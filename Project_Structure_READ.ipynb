{
 "cells": [
  {
   "cell_type": "markdown",
   "id": "11ee2828-ef4a-4109-b060-b6ee774ac2bd",
   "metadata": {},
   "source": [
    "# <center> Dataset Cleaning w/ Pandas\n"
   ]
  },
  {
   "cell_type": "markdown",
   "id": "eb581cac-fb35-49f6-955a-d048c2684639",
   "metadata": {},
   "source": [
    "## Purpose\n",
    "\n",
    "The purpose of this project is to practice dataset cleaning using pandas. I use various functions to clean a dataset so I can perform exploratory data analysis on it later on."
   ]
  },
  {
   "cell_type": "markdown",
   "id": "4f283533-e83c-48f7-aa4e-e066a75a09a9",
   "metadata": {},
   "source": [
    "## Requirements and Structure\n",
    "The most important files are cleaningfunctions.py and cleaningwithfunctions.ipynb. The cleaningfunctions.py file contains the functions used to clean the dataset and the cleaningwithfunctions.ipynb is a notebook that shows how the functions are being used. It also includes some visualizations. The other files contain the raw data, information about the raw data, or general testing."
   ]
  },
  {
   "cell_type": "markdown",
   "id": "eca7d4e3-f672-42e9-a8bb-5285c26b2be2",
   "metadata": {},
   "source": [
    "## Example Dataset Description\n",
    "\n",
    "I am cleaning the 2015 Candy Hierachy dataset from https://www.scq.ubc.ca/so-much-candy-data-seriously/. This dataset was mentioned on https://makingnoiseandhearingthings.com/2018/04/19/datasets-for-data-cleaning-practice/. It has 5630 rows and 124 columns. The data is made up of responses to a large survey about candy. Therefore, most columns have \"JOY\" or \"DESPAIR\" in response to certain candy. There are also some short responses."
   ]
  },
  {
   "cell_type": "markdown",
   "id": "bad7a4f3-13e9-437b-9d58-a170ee88e03c",
   "metadata": {},
   "source": [
    "## Custom Functions\n",
    "\n",
    "All of the custom functions are in the cleaningfunctions.py.\n",
    "\n",
    "The 'numberofNAs' function prints out the number of NA values for each column. I did not use this in my data analysis but this information is useful to see which questions are being answered and which ones aren't. In this dataset specifically, if a candy evokes a neutral feeling, it's counted as an NA on the csv. It's unclear if there's a bunch of NAs on the candy questions because people are neutral towards it or people don't know what they are. On the other hand, it is clear that not a lot of people responded to the \"Please leave any remarks or comments regarding your choices\" question. Maybe because it requires a written response and it's an optional question.\n",
    "\n",
    "The 'validateages' function gets rid of responses that can't be turned into a number. Then it changes the remaining responses to a float value. I used this function because people included words as their age. This function could be used for any column that is supposed to only have numbers, but has words as well.\n",
    "\n",
    "The 'groupages' function returns a specificed subset of the dataframe based on age. It's used to see if different age groups respond to questions differently.\n",
    "\n",
    "The 'findoutliers' function is used to find outliers in the data. In this specific case, 'outlier' is a value that has a z-score greater than 3.\n",
    "\n",
    "The 'joypercentages' function prints out the number of JOY responses, DESPAIR responses, and the ratio of JOY responses to JOY and DESPAIR responses for each candy. It also returns the ratio of the total amount of JOY respones to the total amount of JOY and DESPAIR responses. \n"
   ]
  },
  {
   "cell_type": "markdown",
   "id": "d45404e8-35d1-40c6-b377-89d10ca1a21e",
   "metadata": {},
   "source": [
    "## Descriptive Statistics\n",
    "The mean age in this dataset is 36.8 years old. The median is 35. The mode is 35. The standard deviation is 11.3."
   ]
  },
  {
   "cell_type": "markdown",
   "id": "e51f6440-3b19-4f4e-8abe-63e8f08ceb41",
   "metadata": {},
   "source": [
    "## Future Work/Improvements\n",
    "I could do more analysis with the NA values.\n",
    "I could make the joypercentage functions more generalized so it can be used for other survey response data that only has a small amount of options. "
   ]
  }
 ],
 "metadata": {
  "kernelspec": {
   "display_name": "Python 3",
   "language": "python",
   "name": "python3"
  },
  "language_info": {
   "codemirror_mode": {
    "name": "ipython",
    "version": 3
   },
   "file_extension": ".py",
   "mimetype": "text/x-python",
   "name": "python",
   "nbconvert_exporter": "python",
   "pygments_lexer": "ipython3",
   "version": "3.9.7"
  }
 },
 "nbformat": 4,
 "nbformat_minor": 5
}
